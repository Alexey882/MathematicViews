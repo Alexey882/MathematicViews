{
 "cells": [
  {
   "cell_type": "code",
   "execution_count": 35,
   "metadata": {},
   "outputs": [
    {
     "data": {
      "image/png": "[encoded data removed]",
      "text/plain": [
       "<Figure size 432x288 with 1 Axes>"
      ]
     },
     "metadata": {
      "needs_background": "light"
     },
     "output_type": "display_data"
    },
    {
     "name": "stdout",
     "output_type": "stream",
     "text": [
      "root of this  equation =  0.32951974868774414\n",
      "values of this function in point c =  2.8867056565129445e-06\n",
      "root of this  equation =  0.32952019368740637\n",
      "values of this function in point c =  2.4379333884994026e-08\n"
     ]
    }
   ],
   "source": [
    "#task 1 \n",
    "epsilon = 10**(-5)\n",
    "import numpy as np\n",
    "from matplotlib import pyplot\n",
    "def f(x):\n",
    "    return x**4 - 4*x**3 -8*x**2 + 1\n",
    "def find_root_dichotomy(a, b):\n",
    "    root = 0\n",
    "    while (abs(f(a) - f(b)) > epsilon):\n",
    "        c = (a + b) / 2\n",
    "        if f(c) == 0 :\n",
    "            root = c\n",
    "        else:\n",
    "            if f(a) * f(c) < 0:\n",
    "                b = c\n",
    "            else:\n",
    "                a = c\n",
    "    root = (a+b)/2\n",
    "    return root\n",
    "def find_root_hord(a,b):\n",
    "    x0 = b\n",
    "    x1 = a\n",
    "    x2 = x0 - f(x0)*(x1 - x0)/(f(x1) - f(x0))\n",
    "    while(abs(x1 - x0))>epsilon:\n",
    "          x0 = x1\n",
    "          x1 = x2\n",
    "          x2 = x0 - f(x0)*(x1 - x0)/(f(x1) - f(x0))\n",
    "    return x1\n",
    "x = np.arange(-5,5, 1)\n",
    "pyplot.plot(x, f(x))\n",
    "pyplot.grid()\n",
    "pyplot.show()\n",
    "point = 2\n",
    "a = point+2\n",
    "b = point-2\n",
    "root_1 = find_root_dichotomy(a,b)\n",
    "print('root of this  equation = ' , root_1)\n",
    "print('values of this function in point c = ' ,f(root_1))\n",
    "root_2 = find_root_hord(a,b)\n",
    "print('root of this  equation = ' , root_2)\n",
    "print('values of this function in point c = ' ,f(root_2))"
   ]
  },
  {
   "cell_type": "code",
   "execution_count": 34,
   "metadata": {},
   "outputs": [
    {
     "data": {
      "image/png": "[encoded data removed]",
      "text/plain": [
       "<Figure size 432x288 with 1 Axes>"
      ]
     },
     "metadata": {
      "needs_background": "light"
     },
     "output_type": "display_data"
    },
    {
     "name": "stdout",
     "output_type": "stream",
     "text": [
      "root of this  equation in method Nyton=  1.1402171787445838\n",
      "values of this function in point c =  8.490319558518422e-12\n",
      "root of this  equation in method Iteration =  1.1402159921955048\n",
      "values of this function in point c =  8.741485433283458e-07\n"
     ]
    }
   ],
   "source": [
    "#task 2\n",
    "# вводим необходимые функции f(x), ф(х)  и производной функции f(x)\n",
    "#далее находим значения корней по итерационным формулам для каждого метода\n",
    "def function(x):\n",
    "    return atan(x**2 + 1./x) - x\n",
    "def df(x):\n",
    "    return (2*x - 1./x**2)/( 1 + (x**2 +1./x)**2) -1\n",
    "def phi(x):\n",
    "    return atan(x**2 + 1./x)\n",
    "def find_root_iteration():\n",
    "    x0 = -0.2\n",
    "    x1 = phi(x0)\n",
    "    while(abs(x1-x0)>epsilon):\n",
    "        x0 = x1\n",
    "        if x0==0:\n",
    "            continue\n",
    "        x1 = phi(x0)\n",
    "    return x1\n",
    "def find_root_Nyton():\n",
    "    x0 = 1\n",
    "    xi = x0 - function(x0)/df(x0)\n",
    "    while(abs(xi - x0)>epsilon):\n",
    "        x0 = xi\n",
    "        xi = x0 - function(x0)/df(x0)\n",
    "    return xi\n",
    "x_without_zero = []\n",
    "for elem in x:\n",
    "    if elem!=0:\n",
    "        x_without_zero.append(elem)\n",
    "y = [function(i) for i in x_without_zero]\n",
    "pyplot.plot(x_without_zero,y,'b--',label = 'f(x)')\n",
    "y_diff = [df(i) for i in x_without_zero]\n",
    "pyplot.plot(x_without_zero,y_diff, 'r--', label = 'f\\'(x)')\n",
    "pyplot.legend()\n",
    "pyplot.grid()\n",
    "pyplot.show()\n",
    "root_Nyton = find_root_Nyton()\n",
    "root_iteration = find_root_iteration()\n",
    "print('root of this  equation in method Nyton= ' , root_Nyton)\n",
    "print('values of this function in point c = ' ,function(root_Nyton))\n",
    "print('root of this  equation in method Iteration = ' , root_iteration)\n",
    "print('values of this function in point c = ' ,function(root_iteration))"
   ]
  },
  {
   "cell_type": "code",
   "execution_count": 36,
   "metadata": {},
   "outputs": [
    {
     "name": "stdout",
     "output_type": "stream",
     "text": [
      "solutions of the system = ( 0.5824430982357904 , -0.20008628117105365 )\n",
      "value of system =  ( 1.8458295226286836e-05 , 7.475097326459235e-06 )\n"
     ]
    }
   ],
   "source": [
    "#вводим все функции , а так же их частные производные по координатам х и у \n",
    "#вводим матрицу Якоби и ее обратную матрицу для описания итерационной формулы для вектора решений\n",
    "#так же для нашего удобства вводим функцию умножения матриц\n",
    "\n",
    "from math import *\n",
    "epsilon = 10**(-4)\n",
    "def f1(x, y):\n",
    "    return sin(x + 1) - y - 1.2\n",
    "def f2(x, y):\n",
    "    return 2 * x + cos(x) - 2\n",
    "def matrix_f(x, y):\n",
    "    return [f1(x, y), f2(x, y)]\n",
    "def df1_x(x, y):\n",
    "    return cos(x + 1)\n",
    "def df1_y(x, y):\n",
    "    return -1\n",
    "def df2_x(x, y):\n",
    "    return 2 - sin(x)\n",
    "def df2_y(x, y):\n",
    "    return 0\n",
    "def ycobi(x, y):\n",
    "    return [[df1_x(x, y), df1_y(x, y)],\n",
    "            [df2_x(x, y), df2_y(x, y)]]\n",
    "def reverse_ycobi(x, y):\n",
    "    return [[df2_y(x, y), -df1_y(x, y)],\n",
    "            [-df2_x(x, y), df1_x(x, y)]]\n",
    "def multiply(X, Y):\n",
    "    return [\n",
    "        (X[0][0] * Y[0] + X[0][1] * Y[1]),\n",
    "        (X[1][0] * Y[0] + X[1][1] * Y[1])\n",
    "    ]\n",
    "def find_root_Nyton_system():\n",
    "    solutions_0 = [-0.5, -0.5]\n",
    "    solutions_k = []\n",
    "    solutions_k.append(solutions_0[0] - multiply(reverse_ycobi(solutions_0[0], solutions_0[1]),\n",
    "                                                 matrix_f(solutions_0[0], solutions_0[1]))[0])\n",
    "    solutions_k.append(solutions_0[1] - multiply(reverse_ycobi(solutions_0[0], solutions_0[1]),\n",
    "                                                 matrix_f(solutions_0[0], solutions_0[1]))[1])\n",
    "    while sqrt((solutions_k[0] - solutions_0[0]) ** 2 + ((solutions_k[1] - solutions_0[1]) ** 2)) > epsilon:\n",
    "        solutions_0[0] = solutions_k[0]\n",
    "        solutions_0[1] = solutions_k[1]\n",
    "        solutions_k[0] = (solutions_0[0] - multiply(reverse_ycobi(solutions_0[0], solutions_0[1]),\n",
    "                                                    matrix_f(solutions_0[0], solutions_0[1]))[0])\n",
    "        solutions_k[1] = (solutions_0[1] - multiply(reverse_ycobi(solutions_0[0], solutions_0[1]),\n",
    "                                                    matrix_f(solutions_0[0], solutions_0[1]))[1])\n",
    "    return solutions_k\n",
    "root_system = find_root_Nyton_system()\n",
    "print('solutions of the system =' , '(',root_system[0],',', root_system[1],')')\n",
    "print(\"value of system = \",'(', f1(root_system[0], root_system[1]) ,',' , f2(root_system[0], root_system[1]),')')\n",
    "          \n",
    "\n",
    "\n"
   ]
  },
  {
   "cell_type": "code",
   "execution_count": null,
   "metadata": {},
   "outputs": [],
   "source": []
  }
 ],
 "metadata": {
  "kernelspec": {
   "display_name": "Python 3",
   "language": "python",
   "name": "python3"
  },
  "language_info": {
   "codemirror_mode": {
    "name": "ipython",
    "version": 3
   },
   "file_extension": ".py",
   "mimetype": "text/x-python",
   "name": "python",
   "nbconvert_exporter": "python",
   "pygments_lexer": "ipython3",
   "version": "3.8.5"
  }
 },
 "nbformat": 4,
 "nbformat_minor": 4
}
