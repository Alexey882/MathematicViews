{
 "cells": [
  {
   "cell_type": "markdown",
   "metadata": {},
   "source": [
    "# Решение неоднородных систем уравнений "
   ]
  },
  {
   "cell_type": "code",
   "execution_count": 29,
   "metadata": {},
   "outputs": [],
   "source": [
    "from copy import deepcopy\n",
    "from numpy import *"
   ]
  },
  {
   "cell_type": "markdown",
   "metadata": {},
   "source": [
    "### Евклидова норма"
   ]
  },
  {
   "cell_type": "code",
   "execution_count": 30,
   "metadata": {},
   "outputs": [],
   "source": [
    "def Norma(matrix):\n",
    "    norm = 0\n",
    "    for i in range(9):\n",
    "        for j in range(9):\n",
    "            norm+=pow(matrix[i][j],2)\n",
    "    return sqrt(norm)"
   ]
  },
  {
   "cell_type": "code",
   "execution_count": 7,
   "metadata": {},
   "outputs": [
    {
     "data": {
      "text/plain": [
       "10.68338021744111"
      ]
     },
     "execution_count": 7,
     "metadata": {},
     "output_type": "execute_result"
    }
   ],
   "source": [
    "M = Norma(linalg.inv(matrix))*Norma(matrix)\n",
    "M"
   ]
  },
  {
   "cell_type": "markdown",
   "metadata": {},
   "source": [
    "### Вектор невязки"
   ]
  },
  {
   "cell_type": "code",
   "execution_count": 31,
   "metadata": {},
   "outputs": [],
   "source": [
    "def Nevyz(matrix, f,solutions):\n",
    "    N = [0 for i in range(9)] \n",
    "    for i in range(9):\n",
    "        res = 0\n",
    "        for j in range(9):\n",
    "            res+=matrix[i][j]*solutions[j]\n",
    "        N[i] = [abs(res-f[i])]\n",
    "    return N\n"
   ]
  },
  {
   "cell_type": "markdown",
   "metadata": {},
   "source": [
    "### Собственные числа "
   ]
  },
  {
   "cell_type": "code",
   "execution_count": 13,
   "metadata": {},
   "outputs": [
    {
     "name": "stdout",
     "output_type": "stream",
     "text": [
      "min = 0.6996614631417453 , max = 2.428968253968254\n"
     ]
    }
   ],
   "source": [
    "def lambdas(matrix):\n",
    "    max = 0;\n",
    "    min = 0;\n",
    "    s = 0;\n",
    "    for i in range(len(matrix)):\n",
    "        for j in range(len(matrix)):\n",
    "            s += matrix[i][j] \n",
    "        if (max < s) :\n",
    "            max = s\n",
    "        s = 0\n",
    "    matrix_inv = linalg.inv(matrix)\n",
    "    s = 0;\n",
    "    for i in range(len(matrix_inv)):\n",
    "        for j in range(len(matrix_inv)):\n",
    "            s += matrix_inv[i][j]\n",
    "        if (min < s):\n",
    "            min = s\n",
    "        s = 0\n",
    "    return [min,max]\n",
    "print(\"lambda min = {0} , lambda max = {1}\".format(lambdas(matrix)[0],lambdas(matrix)[1]))"
   ]
  },
  {
   "cell_type": "markdown",
   "metadata": {},
   "source": [
    "# метод гаусса "
   ]
  },
  {
   "cell_type": "code",
   "execution_count": 32,
   "metadata": {},
   "outputs": [],
   "source": [
    "def Gauss(matrix, n):\n",
    "    matrix_all = deepcopy(matrix)\n",
    "    for k in range(n):\n",
    "        for i in range(n+1):\n",
    "            matrix_all[k][i] = matrix_all[k][i]/matrix[k][k]\n",
    "        for i in range(k+1,n):\n",
    "            K = matrix_all[i][k]/matrix_all[k][k]\n",
    "            for j in range(n+1):\n",
    "                matrix_all[i][j] = matrix_all[i][j]-matrix_all[k][j]*K\n",
    "        for i in range(n):\n",
    "            for j in range(n+1):\n",
    "                matrix[i][j] = matrix_all[i][j]\n",
    "    for k in range(n-1,-1,-1):\n",
    "        for i in range(n,-1,-1):\n",
    "            matrix_all[k][i]=matrix_all[k][i]/matrix[k][k]\n",
    "        for i in range(k-1,-1,-1):\n",
    "            K = matrix_all[i][k]/matrix_all[k][k]\n",
    "            for j in range(n,-1,-1):\n",
    "                matrix_all[i][j] = matrix_all[i][j]-matrix_all[k][j]*K\n",
    "    solutions = [0 for i in range(n)]\n",
    "    for i in range(n):\n",
    "        solutions[i] = matrix_all[i][n]\n",
    "    return solutions"
   ]
  },
  {
   "cell_type": "markdown",
   "metadata": {},
   "source": [
    "# Метод ПВР"
   ]
  },
  {
   "cell_type": "code",
   "execution_count": 36,
   "metadata": {},
   "outputs": [],
   "source": [
    "def PVR(matrix,f,w):\n",
    "    xn = [0 for i in range(9)]\n",
    "    x = deepcopy(xn)\n",
    "    norma = 0 \n",
    "    for i in range(9):\n",
    "        x[i] = f[i]\n",
    "        for j in range(9):\n",
    "            if i!=j:\n",
    "                x[i] = x[i] - matrix[i][j]*x[j]\n",
    "        x[i]/=matrix[i][i]\n",
    "        x[i] = w*x[i]+(1-w)*xn[i]\n",
    "        if(abs(x[i]-xn[i])>norma):\n",
    "            norma = abs(x[i] - xn[i])\n",
    "            xn[i] = x[i]\n",
    "    while(norma>pow(10,-4)):\n",
    "        norma = 0 \n",
    "        for i in range(9):\n",
    "            x[i] = f[i]\n",
    "            for j in range(9):\n",
    "                if i!=j:\n",
    "                    x[i] = x[i] - matrix[i][j]*x[j]\n",
    "            x[i]/=matrix[i][i]\n",
    "            x[i] = w*x[i]+(1-w)*xn[i]\n",
    "            if(abs(x[i]-xn[i])>norma):\n",
    "                norma = abs(x[i] - xn[i])\n",
    "                xn[i] = x[i] \n",
    "    return xn"
   ]
  },
  {
   "cell_type": "markdown",
   "metadata": {},
   "source": [
    "# Задание входных параметров"
   ]
  },
  {
   "cell_type": "code",
   "execution_count": 37,
   "metadata": {
    "scrolled": true
   },
   "outputs": [],
   "source": [
    "matrix = [[0 for i in range(9)] for i in range(9)]\n",
    "f = [1/(i+1) for i in range(9)]\n",
    "for i in range(9):\n",
    "    matrix[i][i] = 1\n",
    "    for j in range(9):\n",
    "        if i!=j:\n",
    "            matrix[i][j] = 1/(i+j+2)\n",
    "matrix = [[0 for i in range(9)] for i in range(9)]\n",
    "f = [1/(i+1) for i in range(9)]\n",
    "for i in range(9):\n",
    "    matrix[i][i] = 1\n",
    "    for j in range(9):\n",
    "        if i!=j:\n",
    "            matrix[i][j] = 1/(i+j+2)\n",
    "matrix_all = [[0 for i in range(10)] for i in range(9)]\n",
    "for i in range(9):\n",
    "    matrix_all[i][9] = f[i]\n",
    "    for j in range(9):\n",
    "        matrix_all[i][j] = matrix[i][j]"
   ]
  },
  {
   "cell_type": "markdown",
   "metadata": {},
   "source": [
    "### Вывод данных "
   ]
  },
  {
   "cell_type": "code",
   "execution_count": 38,
   "metadata": {},
   "outputs": [
    {
     "name": "stdout",
     "output_type": "stream",
     "text": [
      "Gauss:\n",
      "[0.918852997180187, 0.17533237349614295, 0.06372831293049423, 0.027072279155963164, 0.01122679199085259, 0.0033207902413902118, -0.0009731188197552262, -0.0034271183666993088, -0.004867555650029307]\n",
      "Nevyz Gauss = [[0.0], [1.1102230246251565e-16], [5.551115123125783e-17], [5.551115123125783e-17], [2.7755575615628914e-17], [2.7755575615628914e-17], [0.0], [1.3877787807814457e-17], [1.3877787807814457e-17]]\n",
      "PVR:\n",
      "[0.9188313105475365, 0.1753560790655514, 0.0637467143162623, 0.027051942006552396, 0.011235616166963556, 0.0033010465721367735, -0.0009576088159749744, -0.0034679087692511324, -0.004901400051935158]\n",
      "Nevyz PVR = [[2.0579644449680856e-05], [1.0127611729360275e-05], [8.747230552885732e-06], [2.368129662386198e-05], [2.5791779443284923e-06], [2.3042298578884735e-05], [9.806402598955266e-06], [4.253970689097053e-05], [3.600496723221713e-05]]\n"
     ]
    }
   ],
   "source": [
    "print('Gauss:')\n",
    "solutions = Gauss(matrix_all,9)\n",
    "print(solutions)\n",
    "print('Nevyz Gauss = {0}'.format(Nevyz(matrix, f,solutions)))\n",
    "solutions = PVR(matrix,f,1.5)\n",
    "print('PVR:')\n",
    "print(solutions)\n",
    "print('Nevyz PVR = {0}'.format(Nevyz(matrix, f,solutions)))"
   ]
  },
  {
   "cell_type": "code",
   "execution_count": null,
   "metadata": {},
   "outputs": [],
   "source": []
  },
  {
   "cell_type": "code",
   "execution_count": null,
   "metadata": {},
   "outputs": [],
   "source": []
  }
 ],
 "metadata": {
  "kernelspec": {
   "display_name": "Python 3",
   "language": "python",
   "name": "python3"
  },
  "language_info": {
   "codemirror_mode": {
    "name": "ipython",
    "version": 3
   },
   "file_extension": ".py",
   "mimetype": "text/x-python",
   "name": "python",
   "nbconvert_exporter": "python",
   "pygments_lexer": "ipython3",
   "version": "3.8.5"
  }
 },
 "nbformat": 4,
 "nbformat_minor": 4
}
